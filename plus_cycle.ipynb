{
  "nbformat": 4,
  "nbformat_minor": 0,
  "metadata": {
    "colab": {
      "provenance": [],
      "collapsed_sections": [],
      "authorship_tag": "ABX9TyMLMxRu6+pJyL95P6HBz62F",
      "include_colab_link": true
    },
    "kernelspec": {
      "name": "python3",
      "display_name": "Python 3"
    },
    "language_info": {
      "name": "python"
    }
  },
  "cells": [
    {
      "cell_type": "markdown",
      "metadata": {
        "id": "view-in-github",
        "colab_type": "text"
      },
      "source": [
        "<a href=\"https://colab.research.google.com/github/mwithgod3952/algorithm_TIL/blob/main/plus_cycle.ipynb\" target=\"_parent\"><img src=\"https://colab.research.google.com/assets/colab-badge.svg\" alt=\"Open In Colab\"/></a>"
      ]
    },
    {
      "cell_type": "markdown",
      "source": [
        "<font size = 2>0보다 크거나 같고, 99보다 작거나 같은 정수가 주어질 때 다음과 같은 연산을 할 수 있다. 먼저 주어진 수가 10보다 작다면 앞에 0을 붙여 두 자리 수로 만들고, 각 자리의 숫자를 더한다. 그 다음, 주어진 수의 가장 오른쪽 자리 수와 앞에서 구한 합의 가장 오른쪽 자리 수를 이어 붙이면 새로운 수를 만들 수 있다. \n",
        "\n",
        "<font size = 2>다음 예를 보자. 26부터 시작한다. 2+6 = 8이다. 새로운 수는 68이다. 6+8 = 14이다. 새로운 수는 84이다. 8+4 = 12이다. 새로운 수는 42이다. 4+2 = 6이다. 새로운 수는 26이다. 위의 예는 4번만에 원래 수로 돌아올 수 있다. 따라서 26의 사이클의 길이는 4이다. \n",
        "\n",
        "<font size = 2>N이 주어졌을 때, N의 사이클의 길이를 구하는 프로그램을 작성하시오."
      ],
      "metadata": {
        "id": "LEHxrSKmeF0_"
      }
    },
    {
      "cell_type": "code",
      "source": [
        "import random\n",
        "\n",
        "def common_cond1(x1):\n",
        "    if x1 < 10:\n",
        "        return '0' + str(x1)\n",
        "    else:\n",
        "        return str(x1)\n",
        "\n",
        "def plus_cycle(N):\n",
        "    assert (N >= 0) and (N <= 100) \n",
        "    def crt_new_num(In_num):\n",
        "        N_str = common_cond1(In_num)\n",
        "        sub_y1 = int(N_str[0]) + int(N_str[1]); sub_y1 = common_cond1(sub_y1)\n",
        "        Y = N_str[1] + str(sub_y1)[1]\n",
        "        return int(Y)\n",
        "\n",
        "    x_cnt = 1; Y = crt_new_num(N);\n",
        "    while Y != N:\n",
        "        Y = crt_new_num(Y)\n",
        "        x_cnt += 1\n",
        "    return x_cnt"
      ],
      "metadata": {
        "id": "XayBWwH2DcKW"
      },
      "execution_count": 1,
      "outputs": []
    },
    {
      "cell_type": "code",
      "source": [
        "plus_cycle(26)"
      ],
      "metadata": {
        "id": "yS-_IQVr3Iof",
        "colab": {
          "base_uri": "https://localhost:8080/"
        },
        "outputId": "ef06f7fe-6bfc-4673-9d38-d0b041917cbd"
      },
      "execution_count": 2,
      "outputs": [
        {
          "output_type": "execute_result",
          "data": {
            "text/plain": [
              "4"
            ]
          },
          "metadata": {},
          "execution_count": 2
        }
      ]
    },
    {
      "cell_type": "code",
      "source": [
        "plus_cycle(55)"
      ],
      "metadata": {
        "colab": {
          "base_uri": "https://localhost:8080/"
        },
        "id": "VhKF-_-MGsQk",
        "outputId": "7a053085-7b68-4717-e211-ec13ff48aa86"
      },
      "execution_count": 3,
      "outputs": [
        {
          "output_type": "execute_result",
          "data": {
            "text/plain": [
              "3"
            ]
          },
          "metadata": {},
          "execution_count": 3
        }
      ]
    },
    {
      "cell_type": "code",
      "source": [
        "plus_cycle(1)"
      ],
      "metadata": {
        "id": "etd21NnJ7ngh",
        "colab": {
          "base_uri": "https://localhost:8080/"
        },
        "outputId": "c357bb58-7862-4dfe-9f3a-61d42e3ca191"
      },
      "execution_count": 4,
      "outputs": [
        {
          "output_type": "execute_result",
          "data": {
            "text/plain": [
              "60"
            ]
          },
          "metadata": {},
          "execution_count": 4
        }
      ]
    },
    {
      "cell_type": "code",
      "source": [
        "plus_cycle(0)"
      ],
      "metadata": {
        "colab": {
          "base_uri": "https://localhost:8080/"
        },
        "id": "GmyyiNJGFlOR",
        "outputId": "dbe16549-678c-4bbb-c04a-04a9d35ad4ea"
      },
      "execution_count": 5,
      "outputs": [
        {
          "output_type": "execute_result",
          "data": {
            "text/plain": [
              "1"
            ]
          },
          "metadata": {},
          "execution_count": 5
        }
      ]
    },
    {
      "cell_type": "code",
      "source": [
        "plus_cycle(71)"
      ],
      "metadata": {
        "colab": {
          "base_uri": "https://localhost:8080/"
        },
        "id": "on9M25_GGn5z",
        "outputId": "e6eec2d3-31ee-4557-f269-51e3685ac6ed"
      },
      "execution_count": 6,
      "outputs": [
        {
          "output_type": "execute_result",
          "data": {
            "text/plain": [
              "12"
            ]
          },
          "metadata": {},
          "execution_count": 6
        }
      ]
    }
  ]
}